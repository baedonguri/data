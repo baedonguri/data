{
 "cells": [
  {
   "cell_type": "code",
   "execution_count": 2,
   "metadata": {},
   "outputs": [
    {
     "name": "stdout",
     "output_type": "stream",
     "text": [
      "[1 2 5 0 3 0]\n",
      "[1. 2. 5. 0. 3. 0.]\n",
      "[ True  True  True False  True False]\n"
     ]
    }
   ],
   "source": [
    "# ndArray 생성 실습(1/2)\n",
    "import numpy as np\n",
    "A = [1,2,5,0,3,0]\n",
    "\n",
    "print(np.array(A))\n",
    "print(np.array(A, dtype='float32'))\n",
    "print(np.array(A, dtype= 'bool'))"
   ]
  },
  {
   "cell_type": "code",
   "execution_count": 4,
   "metadata": {},
   "outputs": [
    {
     "name": "stdout",
     "output_type": "stream",
     "text": [
      "[[0. 0.]\n",
      " [0. 0.]\n",
      " [0. 0.]]\n",
      "[1.]\n",
      "[1 3 5 7 9]\n",
      "[ 1.    3.25  5.5   7.75 10.  ]\n",
      "[[0.04674299 0.89401475]\n",
      " [0.19752979 0.51104503]]\n"
     ]
    }
   ],
   "source": [
    "#ndArray 생성 실습 (2/2) 함수를 사용한 생성\n",
    "\n",
    "import numpy as np\n",
    "print(np.zeros((3,2)))\n",
    "print(np.ones((1)))\n",
    "print(np.arange(1,10,2))\n",
    "print(np.linspace(1,10,5))\n",
    "print(np.random.random((2,2)))"
   ]
  },
  {
   "cell_type": "code",
   "execution_count": 7,
   "metadata": {},
   "outputs": [
    {
     "name": "stdout",
     "output_type": "stream",
     "text": [
      "[1 2 3 4 5]\n",
      "[0 1 0 1 0]\n",
      "[1 3 3 5 5]\n",
      "[1 1 3 3 5]\n",
      "[0 2 0 4 0]\n",
      "[0.   0.5  0.   0.25 0.  ]\n",
      "[1 2 1 4 1]\n"
     ]
    }
   ],
   "source": [
    "# 유니버설 함수 실습\n",
    "import numpy as np\n",
    "x = np.array([1,2,3,4,5])\n",
    "y = np.array([0,1,0,1,0])\n",
    "\n",
    "print(x)\n",
    "print(y)\n",
    "print(x+y)\n",
    "print(x-y)\n",
    "print(x*y)\n",
    "print(y/x)\n",
    "print(x ** y)"
   ]
  },
  {
   "cell_type": "code",
   "execution_count": 13,
   "metadata": {},
   "outputs": [
    {
     "name": "stdout",
     "output_type": "stream",
     "text": [
      "생성된 배열 = [6.24729415 8.45225205 5.35324143 6.52158455 3.58407784 7.33993569\n",
      " 6.73117662 5.82790522 5.9350397  5.49479379]\n",
      "평균 = 6.148730102306941\n",
      "표준편차 = 1.224729836151643\n",
      "표준화된 배열 =  [ 0.0804782   1.88084088 -0.64952176  0.30443812 -2.09405551  0.97262723\n",
      "  0.47557143 -0.26195564 -0.17447963 -0.53394332]\n"
     ]
    }
   ],
   "source": [
    "#표준화 (배열의 규모를 일정하게 함)\n",
    "import numpy as np\n",
    "\n",
    "X = np.random.random(10)*10\n",
    "print('생성된 배열 =',X)\n",
    "\n",
    "X_mean = X.mean() #평균\n",
    "print('평균 =',X_mean)\n",
    "\n",
    "X_std = X.std() #표준편차\n",
    "print('표준편차 =',X_std)\n",
    "\n",
    "X_standardization = (X-X_mean)/X_std\n",
    "print('표준화된 배열 = ', X_standardization)"
   ]
  },
  {
   "cell_type": "code",
   "execution_count": 15,
   "metadata": {},
   "outputs": [
    {
     "name": "stdout",
     "output_type": "stream",
     "text": [
      "[False  True False  True False]\n",
      "[False  True False False False]\n"
     ]
    }
   ],
   "source": [
    "#이론) 비교 연산\n",
    "import numpy as np\n",
    "A = np.array([1,2,3,4,5])\n",
    "B = np.array([3,2,5,4,1])\n",
    "\n",
    "print(A==B) #비교연산의 결과는 항상 bool 타입\n",
    "print(A==2)"
   ]
  },
  {
   "cell_type": "code",
   "execution_count": 16,
   "metadata": {},
   "outputs": [
    {
     "name": "stdout",
     "output_type": "stream",
     "text": [
      "A의 요소중 2보다 크거나 같음을 판별 =  [False  True  True  True  True]\n",
      "A의 요소중 2보다 크거나 같은것은 몇개? = 4\n",
      "A의 요소중 2보다 크거나 같은것만 리스트 = [2 3 4 5]\n"
     ]
    }
   ],
   "source": [
    "# 비교 연산 실습과 활용\n",
    "import numpy as np\n",
    "A = np.array([1,2,3,4,5])\n",
    "\n",
    "print('A의 요소중 2보다 크거나 같음을 판별 = ', A>=2)\n",
    "print('A의 요소중 2보다 크거나 같은것은 몇개? =', sum(A>=2))\n",
    "print('A의 요소중 2보다 크거나 같은것만 리스트 =', A[A>=2])"
   ]
  },
  {
   "cell_type": "code",
   "execution_count": 22,
   "metadata": {},
   "outputs": [
    {
     "name": "stdout",
     "output_type": "stream",
     "text": [
      "3\n",
      "2\n",
      "3\n",
      "2\n"
     ]
    }
   ],
   "source": [
    "#이론) 인덱싱 기초\n",
    "#1차원\n",
    "import numpy as np\n",
    "A =np.array([3,4,1,2,5,3,4])\n",
    "print(A[0])\n",
    "print(A[3])\n",
    "print(A[-7])\n",
    "print(A[-4])"
   ]
  },
  {
   "cell_type": "code",
   "execution_count": 23,
   "metadata": {},
   "outputs": [
    {
     "name": "stdout",
     "output_type": "stream",
     "text": [
      "[1 2 3]\n",
      "2\n",
      "6\n"
     ]
    }
   ],
   "source": [
    "#2차원 이상\n",
    "import numpy as np\n",
    "B = np.array([[1,2,3],\n",
    "             [4,5,6],\n",
    "            [7,8,9]])\n",
    "print(B[0])\n",
    "print(B[0,1])\n",
    "print(B[1,2])"
   ]
  },
  {
   "cell_type": "code",
   "execution_count": 26,
   "metadata": {},
   "outputs": [
    {
     "name": "stdout",
     "output_type": "stream",
     "text": [
      "[1 3]\n",
      "[1 2 3 4]\n",
      "[1 2 3 4 5]\n",
      "[0 1 2 3 4 5]\n"
     ]
    }
   ],
   "source": [
    "#이론) 슬라이싱 기초\n",
    "#1차원\n",
    "import numpy as np\n",
    "a = np.array([0,1,2,3,4,5])\n",
    "print(a[1:5:2])\n",
    "print(a[1:5])\n",
    "print(a[1:])\n",
    "print(a[:])"
   ]
  },
  {
   "cell_type": "code",
   "execution_count": 28,
   "metadata": {},
   "outputs": [
    {
     "name": "stdout",
     "output_type": "stream",
     "text": [
      "[[4]\n",
      " [7]]\n",
      "[[ 4  5]\n",
      " [ 7  8]\n",
      " [10 11]]\n"
     ]
    }
   ],
   "source": [
    "#2차원\n",
    "import numpy as np\n",
    "A = np.array([[1,2,3],\n",
    "             [4,5,6],\n",
    "             [7,8,9],\n",
    "             [10,11,12]])\n",
    "print(A[1:3, 0:1])\n",
    "print(A[1:4, 0:2])"
   ]
  },
  {
   "cell_type": "code",
   "execution_count": 29,
   "metadata": {},
   "outputs": [
    {
     "name": "stdout",
     "output_type": "stream",
     "text": [
      "1번행만 인덱싱= [3 4 5]\n",
      "0번행의 2번열 요소 인덱싱= 2\n",
      "1번~4번행전까지 슬라이스, 1번열 요소 인덱싱= [ 4  7 10]\n",
      "1번~4번행전까지 슬라이스, 0번~2번열전까지 슬라이스= [[ 3  4]\n",
      " [ 6  7]\n",
      " [ 9 10]]\n",
      "0번행의 요소 역순 슬라이스= [2 1 0]\n"
     ]
    }
   ],
   "source": [
    "#인덱싱과 슬라이싱 실습\n",
    "import numpy as np \n",
    "A = np.array([\n",
    "\t[0, 1, 2],\n",
    "\t[3, 4, 5],\n",
    "\t[6, 7, 8],\n",
    "\t[9, 10, 11]\n",
    "])\n",
    "\n",
    "print('1번행만 인덱싱=',A[1])\n",
    "print('0번행의 2번열 요소 인덱싱=',A[0, 2])\n",
    "print('1번~4번행전까지 슬라이스, 1번열 요소 인덱싱=',A[1:4, 1])\n",
    "print('1번~4번행전까지 슬라이스, 0번~2번열전까지 슬라이스=',A[1:4, 0:2])\n",
    "print('0번행의 요소 역순 슬라이스=',A[0, ::-1])"
   ]
  },
  {
   "cell_type": "code",
   "execution_count": 30,
   "metadata": {},
   "outputs": [
    {
     "name": "stdout",
     "output_type": "stream",
     "text": [
      "오름차순 정렬= [0 1 2 4 5]\n",
      "내림차순 정렬= [5 4 2 1 0]\n"
     ]
    }
   ],
   "source": [
    "#정렬 실습(1/2) 1차원 배열\n",
    "import numpy as np\n",
    "a = np.array([4, 1, 2, 5, 0])\n",
    "\n",
    "print('오름차순 정렬=',np.sort(a))\n",
    "print('내림차순 정렬=',-np.sort(-a))"
   ]
  },
  {
   "cell_type": "code",
   "execution_count": null,
   "metadata": {},
   "outputs": [],
   "source": [
    "#정렬 실습(2/2) 2차원 배열\n",
    "import numpy as np\t\n",
    "A = np.array([\n",
    "\t[0, 3, 7],\n",
    "\t[4, 5, 1],\n",
    "\t[2, 6, 9]\n",
    "])\n",
    "\n",
    "print('행을 기준으로 오름차순 정렬')\n",
    "print(np.sort(A, axis = 0))\n",
    "print('열을 기준으로 오름차순 정렬')\n",
    "print(np.sort(A, axis = 1))\n",
    "print('행을 기준으로 내림차순 정렬')\n",
    "print(-np.sort(-A, axis = 0))\n",
    "print('열을 기준으로 내림차순 정렬')\n",
    "print(-np.sort(-A, axis = 1))"
   ]
  }
 ],
 "metadata": {
  "kernelspec": {
   "display_name": "Python 3",
   "language": "python",
   "name": "python3"
  },
  "language_info": {
   "codemirror_mode": {
    "name": "ipython",
    "version": 3
   },
   "file_extension": ".py",
   "mimetype": "text/x-python",
   "name": "python",
   "nbconvert_exporter": "python",
   "pygments_lexer": "ipython3",
   "version": "3.7.6"
  }
 },
 "nbformat": 4,
 "nbformat_minor": 4
}
