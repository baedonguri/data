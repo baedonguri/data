{
 "cells": [
  {
   "cell_type": "code",
   "execution_count": 2,
   "metadata": {},
   "outputs": [
    {
     "name": "stdout",
     "output_type": "stream",
     "text": [
      "A    10\n",
      "B    20\n",
      "C    30\n",
      "dtype: int64\n"
     ]
    }
   ],
   "source": [
    "#Series의 생성(1/3)\n",
    "import pandas as pd\n",
    "\n",
    "A = pd.Series({'A':10, 'B':20, 'C':30})\n",
    "\n",
    "print(A)"
   ]
  },
  {
   "cell_type": "code",
   "execution_count": 3,
   "metadata": {},
   "outputs": [
    {
     "name": "stdout",
     "output_type": "stream",
     "text": [
      "1    10\n",
      "2    20\n",
      "3    30\n",
      "dtype: int64\n"
     ]
    }
   ],
   "source": [
    "#Series의 생성(2/3)\n",
    "import pandas as pd\n",
    "\n",
    "A = pd.Series([10,20,30], index = [1,2,3])\n",
    "\n",
    "print(A)"
   ]
  },
  {
   "cell_type": "code",
   "execution_count": 5,
   "metadata": {},
   "outputs": [
    {
     "name": "stdout",
     "output_type": "stream",
     "text": [
      "0    0.111309\n",
      "1    0.448638\n",
      "2    0.901450\n",
      "3    0.839508\n",
      "4    0.303023\n",
      "5    0.690624\n",
      "6    0.631005\n",
      "7    0.270169\n",
      "8    0.066647\n",
      "9    0.257633\n",
      "dtype: float64\n"
     ]
    }
   ],
   "source": [
    "#Series의 생성(3/3)\n",
    "import pandas as pd\n",
    "\n",
    "A = pd.Series(np.random.random(10))\n",
    "\n",
    "print(A)"
   ]
  },
  {
   "cell_type": "code",
   "execution_count": 6,
   "metadata": {},
   "outputs": [
    {
     "name": "stdout",
     "output_type": "stream",
     "text": [
      "A    40.0\n",
      "B    40.0\n",
      "C    40.0\n",
      "D     NaN\n",
      "dtype: float64\n",
      "A    300.0\n",
      "B    400.0\n",
      "C    300.0\n",
      "D      NaN\n",
      "dtype: float64\n"
     ]
    }
   ],
   "source": [
    "#Series 연산\n",
    "import pandas as pd\n",
    "S_A = pd.Series([10, 20, 30], index = ['A', 'B', 'C'])\n",
    "S_B = pd.Series([30, 20, 10, 50], index = ['A', 'B', 'C', 'D'])#S_A에는 'D'인덱스가 없어 NaN출력\n",
    "\n",
    "print(S_A + S_B)\n",
    "print(S_A * S_B)"
   ]
  },
  {
   "cell_type": "code",
   "execution_count": 7,
   "metadata": {},
   "outputs": [
    {
     "name": "stdout",
     "output_type": "stream",
     "text": [
      "0         SMALL\n",
      "1    VERY SMALL\n",
      "dtype: object\n"
     ]
    }
   ],
   "source": [
    "#Series의 문자열함수 적용\n",
    "\n",
    "import pandas as pd\n",
    "S_C = pd.Series(['small', 'very small'])\n",
    "\n",
    "print(S_C.str.upper())"
   ]
  },
  {
   "cell_type": "code",
   "execution_count": 10,
   "metadata": {},
   "outputs": [
    {
     "name": "stdout",
     "output_type": "stream",
     "text": [
      "   컬럼1  컬럼2\n",
      "A    1   10\n",
      "B    2   20\n",
      "C    3   30\n",
      "D    4   40\n"
     ]
    }
   ],
   "source": [
    "#DataFrame의 생성 (1/2)\n",
    "\n",
    "import pandas as pd\n",
    "df1 = pd.DataFrame(\n",
    "  \t{\n",
    "\t  '컬럼1':[1, 2, 3, 4],\n",
    "\t  '컬럼2':[10, 20, 30, 40]\n",
    "\t},\n",
    "\tindex = ['A', 'B', 'C', 'D']\n",
    ")\n",
    "\n",
    "print(df1)"
   ]
  },
  {
   "cell_type": "code",
   "execution_count": 12,
   "metadata": {},
   "outputs": [
    {
     "name": "stdout",
     "output_type": "stream",
     "text": [
      "   컬럼1  컬럼2\n",
      "A    1   10\n",
      "B    2   20\n",
      "C    3   30\n",
      "D    4   40\n"
     ]
    }
   ],
   "source": [
    "#DataFrame의 생성 (2/2)\n",
    "\n",
    "import pandas as pd\n",
    "df2 = pd.DataFrame(\n",
    "\t[\n",
    "\t  [1, 10], \n",
    "\t  [2, 20], \n",
    "\t  [3, 30], \n",
    "\t  [4, 40]\n",
    "\t],\n",
    "\tcolumns = ['컬럼1', '컬럼2'],\n",
    "\tindex = ['A', 'B', 'C', 'D']\n",
    ")\n",
    "\n",
    "print(df2)"
   ]
  },
  {
   "cell_type": "code",
   "execution_count": 13,
   "metadata": {},
   "outputs": [
    {
     "name": "stdout",
     "output_type": "stream",
     "text": [
      "Index(['A', 'B', 'C', 'D'], dtype='object')\n",
      "합집합= Index(['A', 'B', 'C', 'D', 'E', 'F'], dtype='object')\n",
      "교집합= Index(['C', 'D'], dtype='object')\n"
     ]
    }
   ],
   "source": [
    "#인덱스 추출/연산\n",
    "import pandas as pd\n",
    "series = pd.Series([10, 20, 30, 40], index = ['A', 'B', 'C', 'D'])\n",
    "print(series.index) \n",
    "\n",
    "series1= pd.Series([10, 20, 30, 40], index = ['A', 'B', 'C', 'D'])\n",
    "series2= pd.Series([50, 60, 70, 80], index = ['C', 'D', 'E', 'F'])\n",
    "\n",
    "print('합집합=', series1.index | series2.index)  \n",
    "print('교집합=', series1.index & series2.index) "
   ]
  },
  {
   "cell_type": "code",
   "execution_count": 14,
   "metadata": {},
   "outputs": [
    {
     "name": "stdout",
     "output_type": "stream",
     "text": [
      "생성 직후= Index(['A', 'B', 'C', 'D'], dtype='object')\n",
      "데이터 추가 후= Index(['A', 'B', 'C', 'D', 'E'], dtype='object')\n",
      "B의 값 삭제 후= Index(['A', 'C', 'D', 'E'], dtype='object')\n"
     ]
    }
   ],
   "source": [
    "#Series의 데이터 추가와 삭제\n",
    "\n",
    "import pandas as pd\n",
    "series = pd.Series([10, 20, 30, 40], index = ['A', 'B', 'C', 'D'])\n",
    "print('생성 직후=',series.index) \n",
    "\n",
    "series['E'] = 50\n",
    "print('데이터 추가 후=',series.index) \n",
    "\n",
    "series = series.drop('B')\n",
    "print('B의 값 삭제 후=',series.index) "
   ]
  },
  {
   "cell_type": "code",
   "execution_count": 15,
   "metadata": {},
   "outputs": [
    {
     "name": "stdout",
     "output_type": "stream",
     "text": [
      "생성 직후= Index(['행A', '행B', '행C', '행D'], dtype='object')\n",
      "행 데이터 추가 후= Index(['행A', '행B', '행C', '행D', '행E'], dtype='object')\n",
      "행B의 행 삭제 후= Index(['행A', '행C', '행D', '행E'], dtype='object')\n"
     ]
    }
   ],
   "source": [
    "#DataFrame의 데이터 추가와 삭제\n",
    "\n",
    "import pandas as pd\n",
    "\n",
    "df = pd.DataFrame(\n",
    "\t[\n",
    "\t\t[1, 10], \n",
    "\t  \t[2, 20], \n",
    "\t  \t[3, 30], \n",
    "\t  \t[4, 40]\n",
    "\t], \n",
    "  \tcolumns = ['열1', '열2'], \n",
    "  \tindex = ['행A', '행B', '행C', '행D']\n",
    ")\n",
    "print('생성 직후=',df.index) \n",
    "\n",
    "df.loc['행E'] = [5,50]\n",
    "print('행 데이터 추가 후=',df.index) \n",
    "\n",
    "df= df.drop('행B',axis=0)\n",
    "print('행B의 행 삭제 후=',df.index) "
   ]
  },
  {
   "cell_type": "code",
   "execution_count": 17,
   "metadata": {},
   "outputs": [
    {
     "name": "stdout",
     "output_type": "stream",
     "text": [
      "     인구수(만명)  면적(km^2)          인구밀도\n",
      "송파구     67.8     33.88  20011.806375\n",
      "강서구     59.4     41.40  14347.826087\n",
      "강남구     54.3     40.00  13575.000000\n",
      "노원구     53.6     35.44  15124.153499\n"
     ]
    }
   ],
   "source": [
    "#DataFrame 서울시 인구밀도 계산하기\n",
    "\n",
    "import pandas as pd\n",
    "df = pd.DataFrame(\n",
    "\t{\n",
    "\t\t'인구수(만명)':[67.8, 59.4, 54.3, 53.6],\n",
    "\t\t'면적(km^2)': [33.88, 41.4, 40, 35.44]\n",
    "\t},\n",
    "\tindex = ['송파구', '강서구', '강남구', '노원구']\n",
    ")\n",
    "\n",
    "df['인구밀도'] = df['인구수(만명)'] / df['면적(km^2)'] * 10000\n",
    "\n",
    "print(df)"
   ]
  },
  {
   "cell_type": "code",
   "execution_count": 19,
   "metadata": {},
   "outputs": [
    {
     "name": "stdout",
     "output_type": "stream",
     "text": [
      "10\n",
      "20\n"
     ]
    }
   ],
   "source": [
    "#명시적 인덱서와 암묵적 인덱서 활용하기\n",
    "\n",
    "import pandas as pd\n",
    "A = pd.Series([10, 20, 30, 40], index = [1, 3, 5, 7])\n",
    "\n",
    "print(A.loc[1]) \n",
    "print(A.iloc[1]) "
   ]
  },
  {
   "cell_type": "code",
   "execution_count": 20,
   "metadata": {},
   "outputs": [
    {
     "name": "stdout",
     "output_type": "stream",
     "text": [
      "Index(['a', 'c', 'd'], dtype='object')\n",
      "Index(['a'], dtype='object')\n"
     ]
    }
   ],
   "source": [
    "#마스크를 이용한 인덱싱 (특정 조건을 만족하는 행만 가져오기)\n",
    "\n",
    "import pandas as pd\n",
    "df = pd.DataFrame(\n",
    "\t{\n",
    "\t\t'col1':[3, 2, 3, 4, 1],\n",
    "\t\t'col2':[3, 4, 2, 1, 4]\n",
    "\t},\n",
    "\tindex = ['a', 'b', 'c', 'd', 'e']\n",
    ")\n",
    "\n",
    "print(df[df['col1'] >= df['col2']].index)\n",
    "print(df[df['col1'] == df['col2']].index)"
   ]
  },
  {
   "cell_type": "code",
   "execution_count": null,
   "metadata": {},
   "outputs": [],
   "source": [
    "#데이터 파일 불러오기\n",
    "import pandas as pd\n",
    "df = pd.read_csv(\"c://exam/data.csv\", engine = \"python\") \n"
   ]
  },
  {
   "cell_type": "code",
   "execution_count": 23,
   "metadata": {},
   "outputs": [
    {
     "name": "stdout",
     "output_type": "stream",
     "text": [
      "데이터의 행과 열의 개수 =  (150, 5)\n",
      "[처음부터 5개행]\n",
      "   sepallength  sepalwidth  petallength  petalwidth        class\n",
      "0          5.1         3.5          1.4         0.2  Iris-setosa\n",
      "1          4.9         3.0          1.4         0.2  Iris-setosa\n",
      "2          4.7         3.2          1.3         0.2  Iris-setosa\n",
      "3          4.6         3.1          1.5         0.2  Iris-setosa\n",
      "4          5.0         3.6          1.4         0.2  Iris-setosa\n",
      "[마지막 5개행]\n",
      "     sepallength  sepalwidth  petallength  petalwidth           class\n",
      "145          6.7         3.0          5.2         2.3  Iris-virginica\n",
      "146          6.3         2.5          5.0         1.9  Iris-virginica\n",
      "147          6.5         3.0          5.2         2.0  Iris-virginica\n",
      "148          6.2         3.4          5.4         2.3  Iris-virginica\n",
      "149          5.9         3.0          5.1         1.8  Iris-virginica\n"
     ]
    }
   ],
   "source": [
    "#데이터 확인 함수\n",
    "\n",
    "import pandas as pd\n",
    "df = pd.read_csv(\"http://www.innocoding.co.kr/iris_csv.csv\")\n",
    "\n",
    "print('데이터의 행과 열의 개수 = ',df.shape)\n",
    "\n",
    "print('[처음부터 5개행]')\n",
    "print(df.head())\n",
    "\n",
    "print('[마지막 5개행]')\n",
    "print(df.tail())"
   ]
  },
  {
   "cell_type": "code",
   "execution_count": 24,
   "metadata": {},
   "outputs": [
    {
     "name": "stdout",
     "output_type": "stream",
     "text": [
      "[평균]\n",
      " sepallength    5.843333\n",
      "sepalwidth     3.054000\n",
      "petallength    3.758667\n",
      "petalwidth     1.198667\n",
      "dtype: float64\n",
      "[분산]\n",
      " sepallength    0.685694\n",
      "sepalwidth     0.188004\n",
      "petallength    3.113179\n",
      "petalwidth     0.582414\n",
      "dtype: float64\n",
      "[최소값]\n",
      " sepallength            4.3\n",
      "sepalwidth               2\n",
      "petallength              1\n",
      "petalwidth             0.1\n",
      "class          Iris-setosa\n",
      "dtype: object\n",
      "[최대값]\n",
      " sepallength               7.9\n",
      "sepalwidth                4.4\n",
      "petallength               6.9\n",
      "petalwidth                2.5\n",
      "class          Iris-virginica\n",
      "dtype: object\n",
      "[기초통계량]        sepallength  sepalwidth  petallength  petalwidth\n",
      "count   150.000000  150.000000   150.000000  150.000000\n",
      "mean      5.843333    3.054000     3.758667    1.198667\n",
      "std       0.828066    0.433594     1.764420    0.763161\n",
      "min       4.300000    2.000000     1.000000    0.100000\n",
      "25%       5.100000    2.800000     1.600000    0.300000\n",
      "50%       5.800000    3.000000     4.350000    1.300000\n",
      "75%       6.400000    3.300000     5.100000    1.800000\n",
      "max       7.900000    4.400000     6.900000    2.500000\n",
      "[상관계수]              sepallength  sepalwidth  petallength  petalwidth\n",
      "sepallength     1.000000   -0.109369     0.871754    0.817954\n",
      "sepalwidth     -0.109369    1.000000    -0.420516   -0.356544\n",
      "petallength     0.871754   -0.420516     1.000000    0.962757\n",
      "petalwidth      0.817954   -0.356544     0.962757    1.000000\n"
     ]
    }
   ],
   "source": [
    "#데이터 통계량 확인 함수\n",
    "import pandas as pd\n",
    "df = pd.read_csv(\"http://www.innocoding.co.kr/iris_csv.csv\")\n",
    "\n",
    "print(\"[평균]\\n\", df.mean())\n",
    "print(\"[분산]\\n\", df.var())\n",
    "print(\"[최소값]\\n\", df.min())\n",
    "print(\"[최대값]\\n\", df.max())\n",
    "print(\"[기초통계량]\", df.describe())\n",
    "print(\"[상관계수]\", df.corr())"
   ]
  }
 ],
 "metadata": {
  "kernelspec": {
   "display_name": "Python 3",
   "language": "python",
   "name": "python3"
  },
  "language_info": {
   "codemirror_mode": {
    "name": "ipython",
    "version": 3
   },
   "file_extension": ".py",
   "mimetype": "text/x-python",
   "name": "python",
   "nbconvert_exporter": "python",
   "pygments_lexer": "ipython3",
   "version": "3.7.6"
  }
 },
 "nbformat": 4,
 "nbformat_minor": 4
}
